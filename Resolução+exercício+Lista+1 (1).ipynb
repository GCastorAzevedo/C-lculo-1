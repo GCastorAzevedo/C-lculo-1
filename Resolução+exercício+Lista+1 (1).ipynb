{
 "cells": [
  {
   "cell_type": "markdown",
   "metadata": {},
   "source": [
    "Lista $1$, questão $2)$, exercício $8$"
   ]
  },
  {
   "cell_type": "markdown",
   "metadata": {},
   "source": [
    "Vamos calcular aproximadamente a quantidade $\\frac{\\mathrm{e}^{\\Delta x} - 1}{\\Delta x}$, para valores de precisão $\\Delta x$ pequenos. Ao invés de uma calculadora, farei tal tarefa em código (usando o meu computador como calculadora), na linguagem de programação Python (https://www.python.org/)."
   ]
  },
  {
   "cell_type": "code",
   "execution_count": 1,
   "metadata": {
    "collapsed": true
   },
   "outputs": [],
   "source": [
    "import numpy as np"
   ]
  },
  {
   "cell_type": "markdown",
   "metadata": {},
   "source": [
    "Calculando $\\frac{\\mathrm{e}^{\\Delta x} - 1}{\\Delta x}$ para $\\Delta x = 0,1$"
   ]
  },
  {
   "cell_type": "code",
   "execution_count": 5,
   "metadata": {},
   "outputs": [
    {
     "data": {
      "text/plain": [
       "1.0517091807564771"
      ]
     },
     "execution_count": 5,
     "metadata": {},
     "output_type": "execute_result"
    }
   ],
   "source": [
    "(np.exp(.1)-1)/.1"
   ]
  },
  {
   "cell_type": "markdown",
   "metadata": {},
   "source": [
    "Calculando $\\frac{\\mathrm{e}^{\\Delta x} - 1}{\\Delta x}$ para $\\Delta x = 0,01$, $\\Delta x = 0,001$, $\\Delta x = 0,0001$, respectivamente (o resultado sai na linha \"Out [ n ]\", output dos cálculos, nesse caso, é uma tripla de valores)"
   ]
  },
  {
   "cell_type": "code",
   "execution_count": 7,
   "metadata": {},
   "outputs": [
    {
     "data": {
      "text/plain": [
       "(1.0050167084167949, 1.0005001667083846, 1.000050001667141)"
      ]
     },
     "execution_count": 7,
     "metadata": {},
     "output_type": "execute_result"
    }
   ],
   "source": [
    "(np.exp(.01)-1)/.01 , (np.exp(.001)-1)/.001, (np.exp(.0001)-1)/.0001"
   ]
  },
  {
   "cell_type": "markdown",
   "metadata": {},
   "source": [
    "Calculando $\\frac{\\mathrm{e}^{\\Delta x} - 1}{\\Delta x}$ para $\\Delta x = 0,000000000001$"
   ]
  },
  {
   "cell_type": "code",
   "execution_count": 20,
   "metadata": {},
   "outputs": [
    {
     "data": {
      "text/plain": [
       "1.000088900582341"
      ]
     },
     "execution_count": 20,
     "metadata": {},
     "output_type": "execute_result"
    }
   ],
   "source": [
    "(np.exp(.000000000001)-1)/.000000000001"
   ]
  },
  {
   "cell_type": "markdown",
   "metadata": {},
   "source": [
    "Se seguirmos com uma precisão melhor, por exemplo,  $\\Delta x = 0,0000000000000001$, o computador dá um valor estranho:"
   ]
  },
  {
   "cell_type": "code",
   "execution_count": 21,
   "metadata": {},
   "outputs": [
    {
     "data": {
      "text/plain": [
       "0.0"
      ]
     },
     "execution_count": 21,
     "metadata": {},
     "output_type": "execute_result"
    }
   ],
   "source": [
    "(np.exp(.0000000000000001)-1)/.0000000000000001"
   ]
  },
  {
   "cell_type": "markdown",
   "metadata": {},
   "source": [
    "O problema é que o computador tem uma precisão máxima que ele pode atingir, e depois disso, as contas dão errado (um computador não é capaz de estocar em sua memória números reais, somente, números binários e com eles construir números racionais com um número máximo de bytes de informação). Por exemplo, a seguir eu calculo os valores $10^{-322}$, $10^{-323}$, $10^{-324}$,  $10^{-325}$,$10^{-326}$:"
   ]
  },
  {
   "cell_type": "code",
   "execution_count": 44,
   "metadata": {},
   "outputs": [
    {
     "data": {
      "text/plain": [
       "(1e-322, 1e-323, 0.0, 0.0, 0.0)"
      ]
     },
     "execution_count": 44,
     "metadata": {},
     "output_type": "execute_result"
    }
   ],
   "source": [
    "1e-322,1e-323,1e-324,1e-325,1e-326"
   ]
  },
  {
   "cell_type": "markdown",
   "metadata": {},
   "source": [
    "Ou seja, o computador aproxima $10^{-324}$ e valores menores para $0$! Mas a matemática garante que se você continuasse a calcular $\\frac{\\mathrm{e}^{\\Delta x} - 1}{\\Delta x}$ com um computador perfeito, o resultado se aproximaria cada vez mais de $1$!"
   ]
  },
  {
   "cell_type": "code",
   "execution_count": null,
   "metadata": {
    "collapsed": true
   },
   "outputs": [],
   "source": []
  }
 ],
 "metadata": {
  "kernelspec": {
   "display_name": "Python 3",
   "language": "python",
   "name": "python3"
  },
  "language_info": {
   "codemirror_mode": {
    "name": "ipython",
    "version": 3
   },
   "file_extension": ".py",
   "mimetype": "text/x-python",
   "name": "python",
   "nbconvert_exporter": "python",
   "pygments_lexer": "ipython3",
   "version": "3.6.1"
  }
 },
 "nbformat": 4,
 "nbformat_minor": 2
}
